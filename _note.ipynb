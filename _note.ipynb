{
 "cells": [
  {
   "cell_type": "code",
   "execution_count": 1,
   "id": "53d092d0-690b-4499-89ce-3f6a6a91f25e",
   "metadata": {},
   "outputs": [],
   "source": [
    "# !pip install torch==1.7.1+cu110 torchvision==0.8.2+cu110 torchaudio==0.7.2 -f https://download.pytorch.org/whl/torch_stable.html"
   ]
  },
  {
   "cell_type": "code",
   "execution_count": 1,
   "id": "f7e4a23f-3ae7-4079-9092-efc4526f7fc9",
   "metadata": {},
   "outputs": [],
   "source": [
    "from model.hifigan.env import AttrDict\n",
    "import easydict\n",
    "import torch\n",
    "import yaml\n",
    "import json\n",
    "\n",
    "device = torch.device('cpu')\n",
    "\n",
    "args = easydict.EasyDict()\n",
    "args['preprocess_config'] = './config/kss/preprocess.yaml'\n",
    "args['synthesizer_config'] = './config/kss/model.yaml'\n",
    "args['generator_config'] = './model/hifigan/config_v1.json'\n",
    "args['train_config'] = './config/kss/train.yaml'\n",
    "\n",
    "preprocess_config = yaml.load(open(args.preprocess_config, \"r\"), Loader=yaml.FullLoader)\n",
    "synthesizer_config = yaml.load(open(args.synthesizer_config, \"r\"), Loader=yaml.FullLoader)\n",
    "train_config = yaml.load(open(args.train_config, \"r\"), Loader=yaml.FullLoader)\n",
    "with open(args.generator_config, \"r\", encoding='utf8') as j:\n",
    "    generator_config = json.loads(j.read())\n",
    "    generator_config = AttrDict(generator_config)\n",
    "\n",
    "configs = (preprocess_config, [synthesizer_config, generator_config], train_config)\n",
    "\n"
   ]
  },
  {
   "cell_type": "code",
   "execution_count": 2,
   "id": "a4129b9b-05dc-4108-9827-d2887c442c54",
   "metadata": {},
   "outputs": [],
   "source": [
    "from model.jets import JETSSynthesizer\n",
    "\n",
    "model = JETSSynthesizer(*configs)"
   ]
  },
  {
   "cell_type": "code",
   "execution_count": 5,
   "id": "f30c9d6a-4e1f-4edd-ad0b-ea6351e2be60",
   "metadata": {
    "tags": []
   },
   "outputs": [],
   "source": [
    "cnt = 0 \n",
    "nan = 0\n",
    "for p in model.parameters():\n",
    "    # print(p)\n",
    "    cnt += 1"
   ]
  },
  {
   "cell_type": "code",
   "execution_count": 6,
   "id": "9c863ad7-161f-4561-8a28-cbfbf96280f7",
   "metadata": {},
   "outputs": [
    {
     "data": {
      "text/plain": [
       "465"
      ]
     },
     "execution_count": 6,
     "metadata": {},
     "output_type": "execute_result"
    }
   ],
   "source": [
    "cnt"
   ]
  },
  {
   "cell_type": "code",
   "execution_count": 16,
   "id": "d1f545d5-4ff6-416b-b9b3-587ba6e2550c",
   "metadata": {},
   "outputs": [
    {
     "data": {
      "text/plain": [
       "tensor(2)"
      ]
     },
     "execution_count": 16,
     "metadata": {},
     "output_type": "execute_result"
    }
   ],
   "source": [
    "a = torch.BoolTensor([True,True,False])\n",
    "\n",
    "a.sum()"
   ]
  },
  {
   "cell_type": "code",
   "execution_count": null,
   "id": "5ae0fce6-f558-43d2-8a65-aa64a5ed9f7c",
   "metadata": {},
   "outputs": [],
   "source": []
  }
 ],
 "metadata": {
  "kernelspec": {
   "display_name": "Python 3 (ipykernel)",
   "language": "python",
   "name": "python3"
  },
  "language_info": {
   "codemirror_mode": {
    "name": "ipython",
    "version": 3
   },
   "file_extension": ".py",
   "mimetype": "text/x-python",
   "name": "python",
   "nbconvert_exporter": "python",
   "pygments_lexer": "ipython3",
   "version": "3.8.5"
  }
 },
 "nbformat": 4,
 "nbformat_minor": 5
}
